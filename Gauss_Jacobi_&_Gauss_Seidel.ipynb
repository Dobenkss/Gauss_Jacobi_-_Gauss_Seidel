{
  "nbformat": 4,
  "nbformat_minor": 0,
  "metadata": {
    "colab": {
      "provenance": [],
      "authorship_tag": "ABX9TyO+LBhWuUQDmKiyu33AgjLH",
      "include_colab_link": true
    },
    "kernelspec": {
      "name": "python3",
      "display_name": "Python 3"
    },
    "language_info": {
      "name": "python"
    }
  },
  "cells": [
    {
      "cell_type": "markdown",
      "metadata": {
        "id": "view-in-github",
        "colab_type": "text"
      },
      "source": [
        "<a href=\"https://colab.research.google.com/github/Dobenkss/Gauss_Jacobi_-_Gauss_Seidel/blob/main/Gauss_Jacobi_%26_Gauss_Seidel.ipynb\" target=\"_parent\"><img src=\"https://colab.research.google.com/assets/colab-badge.svg\" alt=\"Open In Colab\"/></a>"
      ]
    },
    {
      "cell_type": "markdown",
      "source": [
        "NAMA  : ABHIPRAYA RASENDRIYA ATMA ARDANY <br>\n",
        "NIM   : 24.21.1587 <br>\n",
        "KELAS : IF10\n",
        "\n",
        "LINK  : https://colab.research.google.com/drive/1eNrMpVEIAdT67wRTLxHbLYfq-LsCD5EP?usp=sharing"
      ],
      "metadata": {
        "id": "2yjNijPxL5sq"
      }
    },
    {
      "cell_type": "code",
      "execution_count": null,
      "metadata": {
        "colab": {
          "base_uri": "https://localhost:8080/"
        },
        "id": "-AbaMHbNHakg",
        "outputId": "fe8901ca-c4b3-4960-b372-8df0b9d089aa"
      },
      "outputs": [
        {
          "output_type": "stream",
          "name": "stdout",
          "text": [
            "Enter tolerable error: 0.01\n",
            "\n",
            "Count\tx\ty\tz\n",
            "\n",
            "1\t17.5000\t-10.0000\t12.0000\n",
            "\n",
            "2\t8.1000\t-1.7000\t3.4000\n",
            "\n",
            "3\t14.9500\t-7.0200\t8.4880\n",
            "\n",
            "4\t10.8564\t-3.6148\t4.8968\n",
            "\n",
            "5\t13.7108\t-5.8700\t7.0791\n",
            "\n",
            "6\t11.9576\t-4.4262\t5.5765\n",
            "\n",
            "7\t13.1538\t-5.3779\t6.5087\n",
            "\n",
            "8\t12.4061\t-4.7657\t5.8780\n",
            "\n",
            "9\t12.9088\t-5.1676\t6.2750\n",
            "\n",
            "10\t12.5907\t-4.9082\t6.0097\n",
            "\n",
            "11\t12.8024\t-5.0780\t6.1784\n",
            "\n",
            "12\t12.6673\t-4.9682\t6.0666\n",
            "\n",
            "13\t12.7566\t-5.0399\t6.1382\n",
            "\n",
            "14\t12.6993\t-4.9934\t6.0910\n",
            "\n",
            "15\t12.7370\t-5.0238\t6.1213\n",
            "\n",
            "16\t12.7127\t-5.0041\t6.1014\n",
            "\n",
            "17\t12.7286\t-5.0169\t6.1143\n",
            "\n",
            "18\t12.7183\t-5.0086\t6.1059\n",
            "\n",
            "\n",
            "Solution: x=12.718, y=-5.009 and z = 6.106\n",
            "\n"
          ]
        }
      ],
      "source": [
        "#1. Mendefinisikan fungsi lambda untuk x, y, dan z.\n",
        "f1 = lambda x,y,z: (350+2*y-14*z)/20\n",
        "f2 = lambda x,y,z: (150-3*x-6*z)/-15\n",
        "f3 = lambda x,y,z: (300-10*x+4*y)/25\n",
        "\n",
        "#2. Menginisialisasi x, y, z ke 0 dan count ke 1.\n",
        "x0 = 0\n",
        "y0 = 0\n",
        "z0 = 0\n",
        "count = 1\n",
        "\n",
        "#3. Meminta pengguna memasukkan toleransi kesalahan.\n",
        "e = float(input('Enter tolerable error: '))\n",
        "\n",
        "#4. Menampilkan header tabel dan memulai loop perhitungan.\n",
        "print('\\nCount\\tx\\ty\\tz\\n')\n",
        "\n",
        "condition = True\n",
        "\n",
        "while condition:\n",
        "    x1 = f1(x0,y0,z0)\n",
        "    y1 = f2(x0,y0,z0)\n",
        "    z1 = f3(x0,y0,z0)\n",
        "    print('%d\\t%0.4f\\t%0.4f\\t%0.4f\\n' %(count, x1,y1,z1))\n",
        "    e1 = abs(x0-x1);\n",
        "    e2 = abs(y0-y1);\n",
        "    e3 = abs(z0-z1);\n",
        "\n",
        "#5. Memperbarui nilai x, y, z dan memeriksa kondisi kesalahan.\n",
        "    count += 1\n",
        "    x0 = x1\n",
        "    y0 = y1\n",
        "    z0 = z1\n",
        "\n",
        "    condition = e1>e and e2>e and e3>e\n",
        "\n",
        "print('\\nSolution: x=%0.3f, y=%0.3f and z = %0.3f\\n'% (x1,y1,z1))"
      ]
    },
    {
      "cell_type": "code",
      "source": [
        "#6. Mendefinisikan fungsi dan menginisialisasi nilai awal.\n",
        "f1 = lambda x,y,z: (350+2*y-14*z)/20\n",
        "f2 = lambda x,y,z: (150-3*x-6*z)/-15\n",
        "f3 = lambda x,y,z: (300-10*x+4*y)/25\n",
        "x0 = 0\n",
        "y0 = 0\n",
        "z0 = 0\n",
        "count = 1\n",
        "e = float(input('Enter tolerable error: '))\n",
        "\n",
        "#7. Menampilkan tabel dan menghitung nilai x, y, z dalam loop.\n",
        "print('\\nCount\\tx\\ty\\tz\\n')\n",
        "condition = True\n",
        "while condition:\n",
        "    x1 = f1(x0,y0,z0)\n",
        "    y1 = f2(x1,y0,z0)\n",
        "    z1 = f3(x1,y1,z0)\n",
        "    print('%d\\t%0.4f\\t%0.4f\\t%0.4f\\n' %(count, x1,y1,z1))\n",
        "    e1 = abs(x0-x1);\n",
        "    e2 = abs(y0-y1);\n",
        "    e3 = abs(z0-z1);\n",
        "    count += 1\n",
        "    x0 = x1\n",
        "    y0 = y1\n",
        "    z0 = z1\n",
        "\n",
        "#8. Memeriksa kondisi kesalahan untuk melanjutkan iterasi.\n",
        "    condition = e1>e and e2>e and e3>e\n",
        "print('\\nSolution: x=%0.3f, y=%0.3f and z = %0.3f\\n'% (x1,y1,z1))"
      ],
      "metadata": {
        "colab": {
          "base_uri": "https://localhost:8080/"
        },
        "id": "_NB6WjI_Jb6B",
        "outputId": "7c7aae55-6408-4579-ceab-a3bbf9235ef4"
      },
      "execution_count": null,
      "outputs": [
        {
          "output_type": "stream",
          "name": "stdout",
          "text": [
            "Enter tolerable error: 0.01\n",
            "\n",
            "Count\tx\ty\tz\n",
            "\n",
            "1\t17.5000\t-6.5000\t3.9600\n",
            "\n",
            "2\t14.0780\t-5.6004\t5.4727\n",
            "\n",
            "3\t13.1090\t-5.1891\t5.9261\n",
            "\n",
            "4\t12.8328\t-5.0630\t6.0568\n",
            "\n",
            "5\t12.7539\t-5.0265\t6.0942\n",
            "\n",
            "6\t12.7314\t-5.0160\t6.1049\n",
            "\n",
            "7\t12.7250\t-5.0131\t6.1079\n",
            "\n",
            "\n",
            "Solution: x=12.725, y=-5.013 and z = 6.108\n",
            "\n"
          ]
        }
      ]
    },
    {
      "cell_type": "markdown",
      "source": [
        "### Dapat disimpulkan dari hasil kedua metode yaitu Gauss Jacobi dan Gauss Seidel bahwa percepatan pencarian akarnya lebih cepat menggunakan metode Gauss Seidel dikarenakan hasilnya terdapat 3 iterasi dibandingkan Gauss Jacobi yang mencapai 5 iterasi"
      ],
      "metadata": {
        "id": "XukC5TVEPaZK"
      }
    }
  ]
}